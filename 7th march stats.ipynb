{
 "cells": [
  {
   "cell_type": "markdown",
   "id": "ca6e4ed9-7af0-4509-9abf-c2cacf0b9999",
   "metadata": {},
   "source": [
    "Q1)"
   ]
  },
  {
   "cell_type": "markdown",
   "id": "f2c8e026-466a-46bc-a8ee-4fec1c349317",
   "metadata": {},
   "source": [
    "The three measures of central tendency are:\n",
    "\n",
    "Mean: It is the arithmetic average of all the values in a dataset. It is calculated by adding up all the values in the dataset and dividing by the total number of values.\n",
    "\n",
    "Median: It is the middle value in a dataset when the values are arranged in order. It is calculated by taking the value that is exactly in the middle of the dataset. If there are an even number of values, then the median is the average of the two middle values.\n",
    "\n",
    "Mode: It is the most frequently occurring value in a dataset. It is calculated by finding the value that appears most often in the dataset. A dataset can have one or more modes, or it can have no mode if no value appears more than once."
   ]
  },
  {
   "cell_type": "markdown",
   "id": "a35bfe88-f7dd-4942-8058-e5a066e75de0",
   "metadata": {},
   "source": [
    "Q2)"
   ]
  },
  {
   "cell_type": "markdown",
   "id": "dd9a4e91-92dd-444e-a38b-c1f6fb0e7c08",
   "metadata": {},
   "source": [
    "The mean, median, and mode are three measures of central tendency used to describe the central or typical value of a dataset.\n",
    "\n",
    "The mean is calculated by adding up all the values in the dataset and dividing by the total number of values. It is sensitive to extreme values or outliers and can be influenced by them, making it sometimes not representative of the dataset.\n",
    "\n",
    "The median is the middle value in a dataset when the values are arranged in order. It is less sensitive to extreme values or outliers than the mean, making it more representative of the dataset in skewed distributions.\n",
    "\n",
    "The modeis the most frequently occurring value in a dataset. It is useful when the goal is to determine the most common value in the dataset.\n",
    "\n",
    "The selection of a measure of central tendency depends on the nature of the dataset and the research question. If the dataset is symmetrical, then the mean, median, and mode will be close to each other. In skewed distributions, the median is often preferred as a measure of central tendency as it is less affected by outliers."
   ]
  },
  {
   "cell_type": "markdown",
   "id": "24817ecd-0fc3-4897-ac80-539c6cab9217",
   "metadata": {},
   "source": [
    "Q3)"
   ]
  },
  {
   "cell_type": "code",
   "execution_count": 1,
   "id": "2e47b7aa-4ae3-47fb-9346-297a93565328",
   "metadata": {},
   "outputs": [],
   "source": [
    "data = [178,177,176,177,178.2,178,175,179,180,175,178.9,176.2,177,172.5,178,176.5]"
   ]
  },
  {
   "cell_type": "code",
   "execution_count": 2,
   "id": "e57b1950-84c3-41f5-bd2e-f47345e785cc",
   "metadata": {},
   "outputs": [],
   "source": [
    "import warnings\n",
    "warnings.filterwarnings(\"ignore\")"
   ]
  },
  {
   "cell_type": "code",
   "execution_count": 3,
   "id": "9f82939e-d501-46a6-b94c-e7b8944ba27e",
   "metadata": {},
   "outputs": [],
   "source": [
    "from scipy import stats\n",
    "import numpy as np"
   ]
  },
  {
   "cell_type": "code",
   "execution_count": 4,
   "id": "46f55377-09d1-4fa9-9370-1a5afea02626",
   "metadata": {},
   "outputs": [
    {
     "name": "stdout",
     "output_type": "stream",
     "text": [
      "Mean of the data: 177.01875\n",
      "Median of the data: 177.0\n",
      "Mode of the data: [177.]\n"
     ]
    }
   ],
   "source": [
    "# calculate the mean\n",
    "mean = np.mean(data)\n",
    "print(\"Mean of the data:\", mean)\n",
    "\n",
    "# calculate the median\n",
    "median = np.median(data)\n",
    "print(\"Median of the data:\", median)\n",
    "\n",
    "# calculate the mode\n",
    "mode = stats.mode(data)\n",
    "print(\"Mode of the data:\", mode.mode)"
   ]
  },
  {
   "cell_type": "markdown",
   "id": "7a0dc5e5-3f1a-460b-909a-7194502c7e7b",
   "metadata": {},
   "source": [
    "Q4)"
   ]
  },
  {
   "cell_type": "code",
   "execution_count": 6,
   "id": "f778ca45-ecf1-4b7d-9073-a2c830f9882e",
   "metadata": {},
   "outputs": [
    {
     "name": "stdout",
     "output_type": "stream",
     "text": [
      "The Standard Deviation of given Data : 1.7885814036548633\n"
     ]
    }
   ],
   "source": [
    "data =[178,177,176,177,178.2,178,175,179,180,175,178.9,176.2,177,172.5,178,176.5]\n",
    "print(\"The Standard Deviation of given Data :\", np.std(data))"
   ]
  },
  {
   "cell_type": "markdown",
   "id": "2a667c0c-3594-4592-9aaf-1d1f8397fe33",
   "metadata": {},
   "source": [
    "Q5)"
   ]
  },
  {
   "cell_type": "markdown",
   "id": "9b619b3f-ba76-43dd-a7d0-d07ddac2daea",
   "metadata": {},
   "source": [
    "Measures of dispersion, such as range, variance, and standard deviation, are used to describe the spread or variability of a dataset. They help to provide information about how far the data points are from the central tendency of the dataset.\n",
    "\n",
    "Range is a simple measure of dispersion that represents the difference between the largest and smallest values in a dataset. It is easy to calculate but can be sensitive to outliers. For example, if we have a dataset of test scores ranging from 60 to 100, the range would be 40.\n",
    "Variance is a more robust measure of dispersion that takes into account the deviation of each data point from the mean of the dataset. It is calculated by squaring the difference between each data point and the mean, summing these values, and dividing by the number of data points minus one. Variance is useful because it gives a sense of how much the data points deviate from the mean. For example, if we have a dataset of test scores with a mean of 80 and a variance of 100, we know that the scores are more spread out than a dataset with a variance of 25.\n",
    "Standard deviation is the square root of the variance and is also a measure of how much the data points deviate from the mean. It is used more often than variance because it is expressed in the same units as the original data and is easier to interpret. For example, if we have a dataset of test scores with a mean of 80 and a standard deviation of 10, we can say that most of the scores fall within 10 points of the mean."
   ]
  },
  {
   "cell_type": "markdown",
   "id": "761cdb47-0e08-4cc1-987a-4d27349ddd48",
   "metadata": {},
   "source": [
    "Q6)"
   ]
  },
  {
   "cell_type": "markdown",
   "id": "fa5028eb-2b39-4ff5-aab4-2f56ef45ccc9",
   "metadata": {},
   "source": [
    "A Venn diagram is a visual representation of sets or groups of data that helps to show their relationships and overlaps. The diagram consists of circles, each representing a set or group, with the size of the circle proportional to the number of elements in the set. The circles are placed in such a way that their intersections show the elements that belong to both sets or all sets. Venn diagrams are commonly used in mathematics, statistics, logic, and other fields to illustrate concepts such as set operations, logical relationships, and data analysis."
   ]
  },
  {
   "cell_type": "markdown",
   "id": "5e2903ac-94d6-4d02-b4e6-763fe923da1f",
   "metadata": {},
   "source": [
    "Q7)"
   ]
  },
  {
   "cell_type": "markdown",
   "id": "cc07bf56-48ff-4d96-a3db-8a3ef76a40b4",
   "metadata": {},
   "source": [
    "Q8)"
   ]
  },
  {
   "cell_type": "markdown",
   "id": "d1377007-09db-4944-9684-270d47d15fd8",
   "metadata": {},
   "source": [
    "Skewness in data refers to the degree of asymmetry of the probability distribution of the data. In a symmetrical distribution, the data is evenly distributed around the mean, with equal frequencies on either side. However, in a skewed distribution, the data is not evenly distributed around the mean, and the tail of the distribution is longer on one side than the other. Skewness can be positive or right-skewed, negative or left-skewed, or zero, indicating no skewness. Positive skewness means that the tail of the distribution is longer on the right side, while negative skewness means that the tail of the distribution is longer on the left side. Skewness is an important measure in data analysis as it helps to understand the shape of the distribution and the degree of variability in the data."
   ]
  },
  {
   "cell_type": "markdown",
   "id": "97eff92d-55c6-4485-a1ef-b185e5397a84",
   "metadata": {},
   "source": [
    "Q9)"
   ]
  },
  {
   "cell_type": "markdown",
   "id": "1cec97e0-a323-4862-9b1f-221dc2b35c2e",
   "metadata": {},
   "source": [
    "If a data is right-skewed, then the median will be less than the mean. This is because in a right-skewed distribution, the tail of the distribution is longer on the right side, which pulls the mean in that direction, making it greater than the median. The median is the value that divides the data into two equal halves, while the mean is the arithmetic average of all the values. In a right-skewed distribution, there are some extreme values on the right side of the distribution, which increase the mean, but not the median, as the median is not affected by extreme values. Therefore, the mean will be higher than the median in a right-skewed distribution."
   ]
  },
  {
   "cell_type": "markdown",
   "id": "64264bc7-34c5-40fb-817e-cc263a36e68c",
   "metadata": {},
   "source": [
    "Q10)"
   ]
  },
  {
   "cell_type": "markdown",
   "id": "b9cf5e42-6de6-41a1-bd41-eaf5917b4264",
   "metadata": {},
   "source": [
    "Covariance and correlation are both measures of the relationship between two variables, but they have some important differences.\n",
    "\n",
    "Covariance measures how much two variables change together. It is a measure of the strength and direction of the linear relationship between two variables. Covariance can be positive, negative, or zero. A positive covariance indicates a positive relationship, meaning that as one variable increases, the other variable tends to increase as well. A negative covariance indicates a negative relationship, meaning that as one variable increases, the other variable tends to decrease. A covariance of zero indicates that there is no relationship between the two variables.\n",
    "\n",
    "Correlation, on the other hand, measures the strength and direction of the linear relationship between two variables, but it does so by standardizing the data. This means that correlation is a unitless measure that ranges from -1 to 1. A correlation of +1 indicates a perfect positive relationship, a correlation of -1 indicates a perfect negative relationship, and a correlation of 0 indicates no relationship. Correlation is a more informative measure of the relationship between two variables than covariance because it is not affected by the scale of the variables.\n",
    "\n",
    "In statistical analysis, covariance and correlation are used to study the relationship between two variables. Covariance is used to determine the direction of the relationship between two variables and to calculate the degree to which they change together. Correlation is used to measure the strength and direction of the linear relationship between two variables, and to determine the degree to which one variable can be predicted from the other variable. Correlation is preferred over covariance when the scale of the variables is different or when the researcher wants to compare the relationship between two different pairs of variables."
   ]
  },
  {
   "cell_type": "markdown",
   "id": "15f714c0-c162-435d-b565-bf15f96a2638",
   "metadata": {},
   "source": [
    "Q11)"
   ]
  },
  {
   "cell_type": "markdown",
   "id": "48ea2bb2-5805-4c16-a752-7d446c1c0a2b",
   "metadata": {},
   "source": [
    "The formula for calculating the sample mean is:\n",
    "\n",
    "mean = (sum of all the values in the dataset) / (number of values in the dataset)\n",
    "\n",
    "For example, let's calculate the sample mean for the following dataset:\n",
    "\n",
    "[10, 12, 15, 18, 20]\n",
    "\n",
    "mean = (10 + 12 + 15 + 18 + 20) / 5 = 75 / 5 = 15\n",
    "\n",
    "Therefore, the sample mean for this dataset is 15."
   ]
  },
  {
   "cell_type": "markdown",
   "id": "51de21c2-53f3-4182-a009-137491036ce5",
   "metadata": {},
   "source": [
    "Q12)"
   ]
  },
  {
   "cell_type": "markdown",
   "id": "9c42ebde-9d03-4c89-a3c3-76ef33cdd3bf",
   "metadata": {},
   "source": [
    "For a normal distribution, the mean, median, and mode are all equal. This is because a normal distribution is symmetric around its mean, and the mean is the point around which the data are balanced. The median is also at this point, since it is the middle value of a sorted dataset. And since the data are symmetric, the mode is also at the same point as the mean and median. Therefore, for a normal distribution, the measure of central tendency (mean, median, and mode) are all equal"
   ]
  },
  {
   "cell_type": "markdown",
   "id": "11b80ef9-3f0b-4b1b-8b1d-1939b738aebc",
   "metadata": {},
   "source": [
    "Q13)"
   ]
  },
  {
   "cell_type": "markdown",
   "id": "d69bfb96-f235-47ef-b45d-f96403e4c063",
   "metadata": {},
   "source": [
    "Covariance and correlation are both measures of the relationship between two variables, but they are different in their interpretation and scale.\n",
    "\n",
    "Covariance is a measure of how two variables vary together. It measures the direction of the relationship (positive or negative) and the magnitude of the relationship. However, covariance is affected by the scale of the variables, which makes it difficult to compare the strength of relationships between variables with different scales. A positive covariance indicates that the variables tend to increase or decrease together, while a negative covariance indicates that one variable tends to increase when the other decreases.\n",
    "\n",
    "Correlation, on the other hand, is a standardized measure of the linear relationship between two variables. It is expressed on a scale from -1 to 1, where -1 indicates a perfect negative correlation, 0 indicates no correlation, and 1 indicates a perfect positive correlation. Correlation is not affected by the scale of the variables, which makes it easier to compare the strength of relationships between variables with different scales.\n",
    "\n",
    "In summary, covariance measures the direction and strength of the relationship between two variables, but it is difficult to interpret and compare due to its dependence on the scale of the variables. Correlation, on the other hand, measures the linear relationship between two variables on a standardized scale, which makes it easier to interpret and compare."
   ]
  },
  {
   "cell_type": "markdown",
   "id": "30830680-0063-40f6-af17-a1d0ad39b320",
   "metadata": {},
   "source": [
    "Q14)"
   ]
  },
  {
   "cell_type": "code",
   "execution_count": null,
   "id": "94389d38-4f0b-484a-a72c-7c4b7dafa6ce",
   "metadata": {},
   "outputs": [],
   "source": [
    "Outliers can significantly affect measures of central tendency and dispersion in a dataset.\n",
    "\n",
    "For example, consider a dataset of ages of employees in a company: [22, 25, 23, 24, 27, 28, 30, 35, 40, 45, 65]. The mean age is 32.36 and the standard deviation is 12.88. However, if we add an outlier value of 100 to the dataset, the mean age increases to 41.45 and the standard deviation increases to 29.87. This shows that the presence of an outlier can greatly affect the measures of central tendency and dispersion.\n",
    "\n",
    "Outliers can also affect the interpretation of results obtained from statistical tests. For example, if we are testing the hypothesis that the mean age of employees in the company is less than 30, the outlier value of 100 can lead to an incorrect rejection of the null hypothesis, since it greatly inflates the mean age. Therefore, it is important to identify and handle outliers appropriately in statistical analysis."
   ]
  }
 ],
 "metadata": {
  "kernelspec": {
   "display_name": "Python 3 (ipykernel)",
   "language": "python",
   "name": "python3"
  },
  "language_info": {
   "codemirror_mode": {
    "name": "ipython",
    "version": 3
   },
   "file_extension": ".py",
   "mimetype": "text/x-python",
   "name": "python",
   "nbconvert_exporter": "python",
   "pygments_lexer": "ipython3",
   "version": "3.10.8"
  }
 },
 "nbformat": 4,
 "nbformat_minor": 5
}
